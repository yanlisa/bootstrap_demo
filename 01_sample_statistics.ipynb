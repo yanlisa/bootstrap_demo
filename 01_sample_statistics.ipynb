{
 "cells": [
  {
   "cell_type": "code",
   "execution_count": 1,
   "metadata": {},
   "outputs": [],
   "source": [
    "import os\n",
    "import time\n",
    "\n",
    "import numpy as np\n",
    "import matplotlib.pyplot as plt\n",
    "\n",
    "from scipy import stats"
   ]
  },
  {
   "cell_type": "markdown",
   "metadata": {},
   "source": [
    "## Helper functions for plotting"
   ]
  },
  {
   "cell_type": "code",
   "execution_count": 32,
   "metadata": {},
   "outputs": [],
   "source": [
    "def plot_pmf(ax, items, nbins=10, alpha=0.5, c=None):\n",
    "    bins = np.linspace(np.min(items), np.max(items)+1, nbins+1)\n",
    "    if(np.max(items) <= 1):\n",
    "        bins = np.linspace(np.min(items), np.max(items)+.001, nbins+1)\n",
    "    counts, _ = np.histogram(items, bins)\n",
    "    width = (bins[1]-bins[0])*0.8\n",
    "    if c is not None:\n",
    "        ax.bar(bins[:-1], counts/items.shape[0], width=width,\n",
    "               align='edge',alpha=alpha, color=c)\n",
    "    else:\n",
    "        ax.bar(bins[:-1], counts/items.shape[0], width=width,\n",
    "               align='edge',alpha=alpha)\n",
    "    \n",
    "def plot_initial(sample, population, title=None, c=None, compare_keep=True):\n",
    "    fig, axs = plt.subplots(1,2, figsize=(7.5,3))\n",
    "    plot_pmf(axs[0], sample, alpha=1.0, c=c)\n",
    "    axs[0].set_ylabel('Sample PMF (count/sample_size)')\n",
    "    axs[0].set_title('Sample distribution')\n",
    "    axs[0].axvline(np.mean(sample), label='sample', color='red')\n",
    "    if compare_keep: axs[0].axvline(np.mean(population), color='orange')\n",
    "    plot_pmf(axs[1], population, alpha=1.0, c=c)\n",
    "    axs[1].set_ylabel('Population PMF (count/9999)')\n",
    "    axs[1].set_title('Population distribution')\n",
    "    axs[1].axvline(np.mean(population), label='population', color='orange')\n",
    "    if compare_keep: axs[1].axvline(np.mean(sample), color='red')\n",
    "    fig.legend(loc='lower right')\n",
    "    fig.tight_layout()\n",
    "    if title is not None:\n",
    "        fig.suptitle(title)\n",
    "    plt.show()\n",
    "    \n",
    "def plot_sample_mean_distribution(population, sample,\n",
    "                                  sample_size, num_samples=10000):\n",
    "    fig = plt.figure()\n",
    "    ax = plt.gca()\n",
    "    sample_stats = []\n",
    "    for i in range(num_samples):\n",
    "        resample = np.random.choice(population,size=sample_size, replace=True)\n",
    "        sample_stats.append(np.mean(resample))\n",
    "    plot_pmf(ax, np.array(sample_stats))\n",
    "    ax.set_title('Sample mean distribution')\n",
    "    ax.set_xlabel('PMF')\n",
    "    ax.set_ylabel('Sample means')\n",
    "    ax.axvline(np.mean(sample), label='sample', color='red')\n",
    "    ax.axvline(np.mean(population), label='population', color='orange')\n",
    "    ax.legend(loc='upper right')\n",
    "    return sample_stats"
   ]
  },
  {
   "cell_type": "markdown",
   "metadata": {},
   "source": [
    "## Functions to generate populations"
   ]
  },
  {
   "cell_type": "code",
   "execution_count": 3,
   "metadata": {},
   "outputs": [],
   "source": [
    "# some random variables\n",
    "from scipy.stats import uniform\n",
    "def uniform_rv(a, b):\n",
    "    return lambda n: uniform.rvs(a, b, size=n)\n",
    "\n",
    "def multinomial_rv(ub):\n",
    "    return lambda n: np.random.randint(1, ub+1, size=n)\n",
    "\n",
    "from scipy.stats import expon\n",
    "def exp_rv(lam):\n",
    "    return lambda n: expon.rvs(lam,size=n).astype(int)\n",
    "\n",
    "from scipy.stats import beta\n",
    "def beta_rv(a, b):\n",
    "    return lambda n: beta.rvs(a, b, size=n)"
   ]
  },
  {
   "cell_type": "code",
   "execution_count": 4,
   "metadata": {},
   "outputs": [],
   "source": [
    "def get_population(rv_maker, population_size):\n",
    "    population = rv_maker(population_size)\n",
    "    return population\n",
    "\n",
    "def get_sample(population, sample_size):\n",
    "    return np.random.choice(population, size=sample_size, replace=True)"
   ]
  },
  {
   "cell_type": "markdown",
   "metadata": {},
   "source": [
    "# Sample statistic distribution vs. Population distribution\n",
    "* Population mean: \\\\( \\mu \\\\), population variance: \\\\( \\sigma^2 \\\\)\n",
    "* Sample mean: \\\\(\\bar{X} \\\\) = ```np.mean(sample)```, where \\\\( E[\\bar{X}] = \\mu \\\\)\n",
    "* Sample variance: \\\\( S^2 = \\frac{1}{n-1} \\sum_{i=1}^n (X_i - \\bar{X})^2 \\\\), where \\\\( E[S^2] = \\sigma^2 \\\\)"
   ]
  },
  {
   "cell_type": "markdown",
   "metadata": {},
   "source": [
    "## A single sample vs population"
   ]
  },
  {
   "cell_type": "code",
   "execution_count": 23,
   "metadata": {},
   "outputs": [
    {
     "data": {
      "image/png": "[encoded data removed]",
      "text/plain": [
       "<Figure size 540x216 with 2 Axes>"
      ]
     },
     "metadata": {},
     "output_type": "display_data"
    },
    {
     "name": "stdout",
     "output_type": "stream",
     "text": [
      "sample mean 440.12 sample variance 78401.3730612245\n",
      "population mean 498.8229822982298 population variance 83949.61362922972\n"
     ]
    }
   ],
   "source": [
    "# Multinomial distribution\n",
    "population = get_population(multinomial_rv(1000), 9999)\n",
    "sample_size = 50\n",
    "sample = get_sample(population, sample_size)\n",
    "plot_initial(sample, population)\n",
    "\n",
    "sample_variance = np.sum((sample - np.mean(sample))**2)/(sample_size-1)\n",
    "print('sample mean', np.mean(sample), 'sample variance', sample_variance)\n",
    "print('population mean', np.mean(population),\n",
    "      'population variance', np.var(population))"
   ]
  },
  {
   "cell_type": "markdown",
   "metadata": {},
   "source": [
    "## Distribution of many sample means"
   ]
  },
  {
   "cell_type": "markdown",
   "metadata": {},
   "source": [
    "Standard error (SE) is deviation of original sample's mean from actual population mean \\\\( SE = \\sqrt{\\frac{S^2}{n}} = \\frac{S}{\\sqrt{n}} \\\\)"
   ]
  },
  {
   "cell_type": "code",
   "execution_count": 33,
   "metadata": {},
   "outputs": [
    {
     "name": "stdout",
     "output_type": "stream",
     "text": [
      "standard error of original sample\t 1568.02746122449\n",
      "real variance of sample mean\t\t 1697.931226098816\n",
      "\n",
      "average of all sample means\t\t 499.349072\n",
      "\tis approx. population mean\t 498.8229822982298\n"
     ]
    },
    {
     "data": {
      "image/png": "[encoded data removed]",
      "text/plain": [
       "<Figure size 432x288 with 1 Axes>"
      ]
     },
     "metadata": {},
     "output_type": "display_data"
    }
   ],
   "source": [
    "sample_means = plot_sample_mean_distribution(population, sample,\n",
    "                                             sample_size=sample_size, num_samples=10000)\n",
    "print('standard error of original sample\\t', sample_variance/50)\n",
    "print('real variance of sample mean\\t\\t', np.var(sample_means))\n",
    "print()\n",
    "print('average of all sample means\\t\\t', np.mean(sample_means))\n",
    "print('\\tis approx. population mean\\t', np.mean(population))"
   ]
  }
 ],
 "metadata": {
  "kernelspec": {
   "display_name": "Python 3",
   "language": "python",
   "name": "python3"
  },
  "language_info": {
   "codemirror_mode": {
    "name": "ipython",
    "version": 3
   },
   "file_extension": ".py",
   "mimetype": "text/x-python",
   "name": "python",
   "nbconvert_exporter": "python",
   "pygments_lexer": "ipython3",
   "version": "3.6.5"
  }
 },
 "nbformat": 4,
 "nbformat_minor": 2
}
